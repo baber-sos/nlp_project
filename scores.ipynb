{
 "cells": [
  {
   "cell_type": "code",
   "execution_count": 1,
   "metadata": {},
   "outputs": [
    {
     "data": {
      "text/plain": [
       "{'Bleu_1': 0.7788007826820048,\n",
       " 'Bleu_2': 0.6358881762571986,\n",
       " 'Bleu_3': 0.5399903030856679,\n",
       " 'Bleu_4': 0.00010523157378387626,\n",
       " 'METEOR': 0.33520678036654417,\n",
       " 'ROUGE_L': 0.8714285714285713,\n",
       " 'CIDEr': 0.0,\n",
       " 'SkipThoughtCS': 0.89930856,\n",
       " 'EmbeddingAverageCosineSimilairty': 0.953233,\n",
       " 'VectorExtremaCosineSimilarity': 0.904934,\n",
       " 'GreedyMatchingScore': 0.952147}"
      ]
     },
     "execution_count": 1,
     "metadata": {},
     "output_type": "execute_result"
    }
   ],
   "source": [
    "from nltk.translate.bleu_score import SmoothingFunction, sentence_bleu\n",
    "from nlgeval import compute_individual_metrics\n",
    "from nltk.tokenize import RegexpTokenizer\n",
    "import numpy as np\n",
    "tokenizer = RegexpTokenizer(r'\\w+')\n",
    "\n",
    "# This function only calculates bleu scores \n",
    "def calculate_bleu(actual, predicted):\n",
    "    \n",
    "    cc = SmoothingFunction()\n",
    "    bleu = sentence_bleu\n",
    "    weights = [(1,0,0,0),(0.5, 0.5, 0, 0),(0.33, 0.33, 0.33, 0),(0.25, 0.25, 0.25, 0.25)]\n",
    "    actual = tokenizer.tokenize(actual)\n",
    "    actual = [actual]\n",
    "    predicted = tokenizer.tokenize(predicted)\n",
    "    results = {}\n",
    "    keys = ['BLEU-1','BLEU-2','BLEU-3','BLEU-4']\n",
    "    for i in range(4):\n",
    "        score = bleu(actual, predicted, weights=weights[i], smoothing_function=cc.method4)\n",
    "        results[keys[i]] = score\n",
    "    \n",
    "    return results\n",
    "    \n",
    "actual = 'This is a small test'\n",
    "predicted = 'This is a test'\n",
    "\n",
    "results = calculate_bleu(actual, predicted)\n",
    "\n",
    "# This calculate all scores but it is really slow\n",
    "metrics_dict = compute_individual_metrics(actual, predicted)\n",
    "metrics_dict"
   ]
  },
  {
   "cell_type": "code",
   "execution_count": null,
   "metadata": {},
   "outputs": [],
   "source": []
  }
 ],
 "metadata": {
  "kernelspec": {
   "display_name": "Python 3",
   "language": "python",
   "name": "python3"
  },
  "language_info": {
   "codemirror_mode": {
    "name": "ipython",
    "version": 3
   },
   "file_extension": ".py",
   "mimetype": "text/x-python",
   "name": "python",
   "nbconvert_exporter": "python",
   "pygments_lexer": "ipython3",
   "version": "3.6.7"
  }
 },
 "nbformat": 4,
 "nbformat_minor": 2
}
