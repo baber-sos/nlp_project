{
 "cells": [
  {
   "cell_type": "code",
   "execution_count": 1,
   "metadata": {},
   "outputs": [],
   "source": [
    "#!/usr/bin/env python\n",
    "# coding: utf-8\n",
    "\n",
    "import numpy as np \n",
    "import pandas as pd \n",
    "import sklearn\n",
    "import random\n",
    "import io\n",
    "import numbers\n",
    "import sklearn.feature_extraction.text\n",
    "import pickle\n",
    "from nltk.tokenize import word_tokenize"
   ]
  },
  {
   "cell_type": "code",
   "execution_count": 2,
   "metadata": {},
   "outputs": [
    {
     "name": "stderr",
     "output_type": "stream",
     "text": [
      "/Library/Frameworks/Python.framework/Versions/3.6/lib/python3.6/site-packages/ipykernel_launcher.py:16: SettingWithCopyWarning: \n",
      "A value is trying to be set on a copy of a slice from a DataFrame.\n",
      "Try using .loc[row_indexer,col_indexer] = value instead\n",
      "\n",
      "See the caveats in the documentation: http://pandas.pydata.org/pandas-docs/stable/indexing.html#indexing-view-versus-copy\n",
      "  app.launch_new_instance()\n",
      "/Library/Frameworks/Python.framework/Versions/3.6/lib/python3.6/site-packages/ipykernel_launcher.py:17: SettingWithCopyWarning: \n",
      "A value is trying to be set on a copy of a slice from a DataFrame.\n",
      "Try using .loc[row_indexer,col_indexer] = value instead\n",
      "\n",
      "See the caveats in the documentation: http://pandas.pydata.org/pandas-docs/stable/indexing.html#indexing-view-versus-copy\n"
     ]
    }
   ],
   "source": [
    "# getting all videos' names\n",
    "videos = []\n",
    "with open('./input') as f:\n",
    "    for i in f:\n",
    "        # extract names of the videos \n",
    "        names = i.split('.')[0]\n",
    "        videos.append(names)\n",
    "\n",
    "# Reading catptions\n",
    "captions = pd.read_csv('video_corpus.csv')\n",
    "english_captions = captions[captions['Language'] == 'English']\n",
    "\n",
    "# print(english_captions.iloc[:100,:])\n",
    "# print(len(english_captions)) ## 85511 rows \n",
    "\n",
    "english_captions['NewID'] =  english_captions['VideoID'].str.cat(english_captions['Start'].values.astype(str), sep='_')\n",
    "english_captions['NewID'] =  english_captions['NewID'].str.cat(english_captions['End'].values.astype(str), sep='_')\n",
    "\n",
    "\n",
    "\n",
    "# get all the training data based on the ids on videos \n",
    "trained = english_captions.loc[english_captions['NewID'].isin(videos)]"
   ]
  },
  {
   "cell_type": "code",
   "execution_count": 3,
   "metadata": {},
   "outputs": [],
   "source": [
    "# trained.loc[trained['Description'].str.contains(\"parrot\", case=False)]"
   ]
  },
  {
   "cell_type": "code",
   "execution_count": 4,
   "metadata": {},
   "outputs": [],
   "source": [
    "# ### Getting all words for the Description \n",
    "# vectorizer = sklearn.feature_extraction.text.CountVectorizer(min_df=1)\n",
    "# X = vectorizer.fit_transform(trained['Description'])\n",
    "# index_to_word = vectorizer.get_feature_names()\n",
    "# word_to_index = {index_to_word[i]:i for i in range(len(index_to_word))}"
   ]
  },
  {
   "cell_type": "code",
   "execution_count": 5,
   "metadata": {},
   "outputs": [],
   "source": [
    "def remove(my_str):\n",
    "    # define punctuation\n",
    "    punctuations = '''!()-[]{};:'\"\\,<>./?@#$%^&*_~'''\n",
    "    # To take input from the user\n",
    "    # my_str = input(\"Enter a string: \")\n",
    "    # remove punctuation from the string\n",
    "    no_punct = \"\"\n",
    "    for char in my_str:\n",
    "       if char not in punctuations:\n",
    "           no_punct = no_punct + char\n",
    "    return no_punct\n",
    "\n",
    "index_to_word = []\n",
    "data = english_captions['Description']\n",
    "data = data.str.lower()\n",
    "data = list(data)\n",
    "new = data\n",
    "words = []\n",
    "for item in new:\n",
    "    try:\n",
    "        words.append(word_tokenize(item))\n",
    "    except:\n",
    "        continue\n",
    "for item in words:\n",
    "    for word in item:\n",
    "        word = remove(word)\n",
    "        if word not in index_to_word:\n",
    "            index_to_word.append(word)\n"
   ]
  },
  {
   "cell_type": "code",
   "execution_count": 6,
   "metadata": {},
   "outputs": [],
   "source": [
    "word_to_index = {index_to_word[i]:i for i in range(len(index_to_word))}"
   ]
  },
  {
   "cell_type": "code",
   "execution_count": 7,
   "metadata": {
    "scrolled": true
   },
   "outputs": [
    {
     "name": "stdout",
     "output_type": "stream",
     "text": [
      "Loading Glove Model\n",
      "Done. 10610  words loaded!\n"
     ]
    }
   ],
   "source": [
    "# Load Glove models\n",
    "\n",
    "def loadGloveModel(gloveFile):\n",
    "    print(\"Loading Glove Model\")\n",
    "    remaining_vocab = set(index_to_word)\n",
    "    f = open(gloveFile,'r')\n",
    "    model = {}\n",
    "    for line in f:\n",
    "        splitLine = line.split()\n",
    "        word = splitLine[0]\n",
    "        if word in remaining_vocab:\n",
    "            embedding = np.array([float(val) for val in splitLine[1:]])\n",
    "            model[word_to_index[word]] = embedding\n",
    "            remaining_vocab.remove(word)\n",
    "    print(\"Done.\",len(model),\" words loaded!\")\n",
    "    \n",
    "    for key in word_to_index.keys():\n",
    "        idx = word_to_index[key]\n",
    "        if idx not in model.keys():\n",
    "            model[idx] = np.zeros(300)\n",
    "        \n",
    "    return model\n",
    "\n",
    "\n",
    "\n",
    "model = loadGloveModel('./glove.6B.300d.txt')\n",
    "\n",
    "\n",
    "# Save the embedding to a pickle file \n",
    "f = open(\"embedding.pkl\",\"wb\")\n",
    "pickle.dump(model,f)\n",
    "\n",
    "\n",
    "new = pickle.load(open('embedding.pkl','rb'))\n",
    "\n",
    "\n"
   ]
  },
  {
   "cell_type": "code",
   "execution_count": 13,
   "metadata": {},
   "outputs": [
    {
     "data": {
      "text/plain": [
       "array([-2.9712e-01,  9.4049e-02, -9.6662e-02, -3.4400e-01, -1.8483e-01,\n",
       "       -1.2329e-01, -1.1656e-01, -9.9692e-02,  1.7265e-01, -1.6386e+00,\n",
       "        1.0220e-01,  3.4253e-02, -2.4213e-01,  4.8212e-02,  2.7060e-01,\n",
       "        3.5996e-01, -4.0779e-01,  2.3785e-01,  2.4245e-01, -3.1107e-01,\n",
       "       -4.8287e-01,  2.6101e-01,  1.1878e-01,  5.1011e-01, -3.1115e-01,\n",
       "       -3.7005e-01,  1.1625e-01, -4.2061e-01, -3.4391e-02,  1.1809e-01,\n",
       "       -4.8955e-01,  3.3693e-01, -1.3387e-01,  3.4924e-01, -8.3700e-01,\n",
       "        5.6691e-01, -5.3670e-01,  3.8559e-01, -2.8975e-01,  6.2470e-01,\n",
       "        4.8489e-01,  3.6357e-01,  3.5868e-01,  8.9597e-02, -5.5360e-02,\n",
       "        1.1218e-01,  2.5683e-01, -7.6713e-02, -1.9422e-01, -1.8243e-01,\n",
       "       -3.2841e-01,  6.4014e-02,  5.1971e-02,  2.0494e-01,  9.9948e-02,\n",
       "       -2.7160e-01, -4.6416e-01,  1.0966e-01,  3.8606e-01, -3.8436e-01,\n",
       "       -3.8772e-01,  2.8296e-01,  6.2533e-01, -2.1405e-01, -3.7540e-01,\n",
       "       -5.7913e-01, -1.2510e-01, -1.7104e-01,  4.3539e-01, -1.8758e-01,\n",
       "        1.7773e-02,  3.5395e-01,  3.0074e-01, -1.9863e-01, -3.7743e-01,\n",
       "        1.1643e-01, -1.8239e-01,  2.1961e-02, -3.7256e-01,  2.3748e-02,\n",
       "       -9.6721e-02,  1.2890e-01, -6.4794e-02, -2.3133e-01,  4.5646e-01,\n",
       "        1.4918e-01, -3.9145e-02,  3.9048e-01, -1.1300e-01, -3.1962e-02,\n",
       "        3.6758e-02,  2.4962e-01, -1.1699e-01, -5.7764e-01,  5.7354e-01,\n",
       "       -1.4273e-01,  2.5030e-01, -5.9743e-02, -1.8562e-01, -6.8998e-02,\n",
       "       -3.6610e-02,  1.5586e-01,  1.9729e-01, -3.3594e-01, -1.6771e-01,\n",
       "        1.7228e-01,  1.2988e-01, -6.4598e-02, -6.0267e-01, -4.3089e-01,\n",
       "       -2.8800e-01,  5.3530e-01, -8.5713e-02,  8.9749e-02,  9.3015e-01,\n",
       "        1.6516e-01, -1.4327e-01, -6.0793e-02,  6.5698e-02, -1.1137e-02,\n",
       "        2.4506e-01,  3.2870e-01,  1.2378e-02,  3.4808e-01,  4.7224e-02,\n",
       "       -2.0778e-01,  6.2321e-01,  1.4988e-01,  3.0187e-01, -3.2872e-01,\n",
       "        3.4040e-01,  2.2678e-01, -5.3792e-01, -1.1482e-01,  4.1729e-01,\n",
       "        1.5157e-01,  1.5916e-01, -1.2746e-01,  2.3922e-01,  2.0200e-01,\n",
       "       -2.0951e-01,  3.6117e-01,  1.1522e-01, -2.8047e-02, -7.2466e-01,\n",
       "       -1.1893e-02,  3.1583e-02,  1.7390e-01, -1.2620e-01,  2.0053e-01,\n",
       "        3.3085e-01, -2.6827e-01,  2.8153e-01, -4.4422e-02,  4.6704e-01,\n",
       "        4.9405e-02, -4.6265e-01, -2.7114e-01,  9.7589e-02,  3.0885e-01,\n",
       "       -1.0546e-01, -1.8832e-02,  1.8444e-01, -1.5528e-02,  4.7652e-02,\n",
       "       -1.2050e-01, -2.8740e-01,  8.4141e-02,  5.3238e-01,  2.0090e-01,\n",
       "        3.5318e-02, -4.4411e-01, -8.6037e-01,  2.7610e-01, -1.6407e-01,\n",
       "       -2.3766e-01, -5.3769e-01, -4.6391e-02,  5.5086e-01,  2.4044e-01,\n",
       "        3.1387e-01,  2.4542e-01,  1.9868e-01,  2.7393e-01, -2.4355e-01,\n",
       "       -4.1290e-01, -4.6545e-01,  6.0012e-01, -2.6015e-01,  1.9290e-01,\n",
       "        3.6024e-01,  1.8589e-01,  3.7866e-02, -7.7942e-02, -9.9914e-02,\n",
       "        3.4607e-02, -1.2247e-01, -2.7205e-01, -1.3819e-01,  2.3319e-01,\n",
       "        9.6767e-01,  3.4317e-01,  4.4022e-02, -3.1471e-01,  1.4663e-02,\n",
       "       -7.1928e-02, -4.5375e-01,  2.9313e-02, -2.2576e-01,  2.0704e-01,\n",
       "        2.9607e-02, -4.1761e-01,  2.6030e-01,  2.3784e-01,  8.3533e-02,\n",
       "        1.2032e-01, -1.9662e-01, -2.8850e-01, -2.5891e-01,  7.1359e-01,\n",
       "        2.8543e-01, -1.7777e-03, -1.0196e-01,  4.7297e-01, -6.1940e-03,\n",
       "       -2.4529e-02,  1.1389e-01,  5.9219e-02,  1.8821e-01, -1.5918e-01,\n",
       "        1.9517e-01,  2.3143e-01, -1.6216e-02, -5.1149e-01,  3.6894e-01,\n",
       "        5.5447e-01,  1.7006e-01, -8.1063e-02,  1.4756e-01,  4.3106e-01,\n",
       "        6.2111e-01, -2.0083e-02, -5.1027e-02, -4.2335e-01, -9.5094e-01,\n",
       "       -9.8285e-02,  4.9542e-01, -1.4410e-01,  1.8742e-01, -1.6060e-01,\n",
       "       -7.3652e-02,  6.7304e-02, -9.7287e-02, -2.7716e-01,  8.0758e-01,\n",
       "        2.0659e-01, -3.4734e-01, -1.7897e-01,  4.8319e-01,  5.9006e-01,\n",
       "       -2.2616e-01,  2.8727e-01,  4.9545e-01,  4.1908e-01, -3.7884e-01,\n",
       "        2.3117e-02, -1.1783e-01,  7.9173e-02,  5.6050e-01, -1.7425e-01,\n",
       "       -3.3199e-01, -7.2821e-01,  1.0046e-01,  4.1775e-02,  2.2655e-01,\n",
       "       -1.2865e-01, -2.3832e+00,  2.2060e-01,  5.1407e-01,  8.6160e-02,\n",
       "       -2.1772e-01, -5.5862e-02, -4.0358e-02, -2.2208e-01, -4.2596e-02,\n",
       "        3.7001e-02, -5.0139e-01,  1.0573e-01, -1.6145e-01,  3.6160e-01,\n",
       "        7.5972e-02, -4.2426e-01, -3.9670e-01,  3.2683e-01,  6.2049e-01,\n",
       "        3.4719e-01,  2.6952e-01,  5.9717e-02, -2.2853e-01,  2.9602e-01])"
      ]
     },
     "execution_count": 13,
     "metadata": {},
     "output_type": "execute_result"
    }
   ],
   "source": [
    "new[word_to_index['a']]"
   ]
  },
  {
   "cell_type": "code",
   "execution_count": null,
   "metadata": {},
   "outputs": [],
   "source": []
  }
 ],
 "metadata": {
  "kernelspec": {
   "display_name": "Python 3",
   "language": "python",
   "name": "python3"
  },
  "language_info": {
   "codemirror_mode": {
    "name": "ipython",
    "version": 3
   },
   "file_extension": ".py",
   "mimetype": "text/x-python",
   "name": "python",
   "nbconvert_exporter": "python",
   "pygments_lexer": "ipython3",
   "version": "3.6.7"
  }
 },
 "nbformat": 4,
 "nbformat_minor": 2
}
